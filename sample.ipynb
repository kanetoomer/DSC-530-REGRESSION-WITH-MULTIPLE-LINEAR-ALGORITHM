{
 "cells": [
  {
   "metadata": {},
   "cell_type": "markdown",
   "source": "1. Make sure all necessary libraries are loaded. Print your x (independent) and y (dependent) variables from the data frame. Show the results.",
   "id": "8a77807f92f26ee"
  },
  {
   "metadata": {
    "ExecuteTime": {
     "end_time": "2024-09-18T21:54:13.229907Z",
     "start_time": "2024-09-18T21:54:13.214830Z"
    }
   },
   "cell_type": "code",
   "source": [
    "import pandas as pd\n",
    "import numpy as np\n",
    "import statsmodels.api as sm\n",
    "from statsmodels.stats.outliers_influence import variance_inflation_factor\n",
    "from sklearn.model_selection import train_test_split\n",
    "from sklearn.linear_model import LinearRegression\n",
    "from sklearn.metrics import mean_squared_error, confusion_matrix, accuracy_score\n",
    "from sklearn.model_selection import cross_val_score\n",
    "\n",
    "# Load the dataset\n",
    "file_path = 'data/hospital_readmissions.csv'\n",
    "data = pd.read_csv(file_path)\n",
    "\n",
    "# Define independent variables (X) and dependent variable (Y)\n",
    "X = data[['Age', 'Time_in_Hospital', 'Num_Lab_Procedures', 'Num_Medications', 'Num_Outpatient', 'Num_Inpatient', 'Num_Emergency']]\n",
    "y = data['Readmitted']\n",
    "\n",
    "# Print X and Y variables\n",
    "print(\"Independent Variables (X):\\n\", X.head())\n",
    "print(\"\\nDependent Variable (Y):\\n\", y.head())"
   ],
   "id": "fbc121e30a2defb3",
   "outputs": [
    {
     "name": "stdout",
     "output_type": "stream",
     "text": [
      "Independent Variables (X):\n",
      "    Age  Time_in_Hospital  Num_Lab_Procedures  Num_Medications  Num_Outpatient  \\\n",
      "0   71                10                  25                1               9   \n",
      "1   34                 7                  12                3               8   \n",
      "2   80                 1                   5                2               3   \n",
      "3   40                 7                  98                9               3   \n",
      "4   43                 5                  48               19               6   \n",
      "\n",
      "   Num_Inpatient  Num_Emergency  \n",
      "0              4              0  \n",
      "1              0              4  \n",
      "2              0              4  \n",
      "3              0              2  \n",
      "4              1              1  \n",
      "\n",
      "Dependent Variable (Y):\n",
      " 0    1\n",
      "1    0\n",
      "2    0\n",
      "3    1\n",
      "4    0\n",
      "Name: Readmitted, dtype: int64\n"
     ]
    }
   ],
   "execution_count": 22
  },
  {
   "metadata": {},
   "cell_type": "markdown",
   "source": [
    "2. Fit an ordinary least square method using the OLS method from the seaborn library to figure out your most significant variables. Show the results and interpret the following:\n",
    "- R-squared\n",
    "- Adjusted. R-Squared\n",
    "- Degree of freedom\n",
    "- Coefficient of determination and P-values"
   ],
   "id": "3ca6d26413220d9c"
  },
  {
   "metadata": {
    "ExecuteTime": {
     "end_time": "2024-09-18T21:54:13.302379Z",
     "start_time": "2024-09-18T21:54:13.264258Z"
    }
   },
   "cell_type": "code",
   "source": [
    "# Add a constant to the independent variables\n",
    "X = sm.add_constant(X)\n",
    "\n",
    "# Fit the OLS model\n",
    "ols_model = sm.OLS(y, X).fit()\n",
    "\n",
    "# Show the OLS results summary\n",
    "print(ols_model.summary())"
   ],
   "id": "ed9600a82a495e2e",
   "outputs": [
    {
     "name": "stdout",
     "output_type": "stream",
     "text": [
      "                            OLS Regression Results                            \n",
      "==============================================================================\n",
      "Dep. Variable:             Readmitted   R-squared:                       0.001\n",
      "Model:                            OLS   Adj. R-squared:                 -0.006\n",
      "Method:                 Least Squares   F-statistic:                    0.1969\n",
      "Date:                Wed, 18 Sep 2024   Prob (F-statistic):              0.986\n",
      "Time:                        14:54:13   Log-Likelihood:                -636.96\n",
      "No. Observations:                1000   AIC:                             1290.\n",
      "Df Residuals:                     992   BIC:                             1329.\n",
      "Df Model:                           7                                         \n",
      "Covariance Type:            nonrobust                                         \n",
      "======================================================================================\n",
      "                         coef    std err          t      P>|t|      [0.025      0.975]\n",
      "--------------------------------------------------------------------------------------\n",
      "const                  0.2900      0.071      4.093      0.000       0.151       0.429\n",
      "Age                    0.0001      0.001      0.144      0.885      -0.001       0.001\n",
      "Time_in_Hospital      -0.0021      0.004     -0.544      0.586      -0.010       0.005\n",
      "Num_Lab_Procedures     0.0002      0.001      0.394      0.694      -0.001       0.001\n",
      "Num_Medications       -0.0014      0.003     -0.540      0.589      -0.007       0.004\n",
      "Num_Outpatient         0.0013      0.005      0.248      0.804      -0.009       0.011\n",
      "Num_Inpatient          0.0016      0.010      0.149      0.882      -0.019       0.022\n",
      "Num_Emergency          0.0071      0.010      0.699      0.485      -0.013       0.027\n",
      "==============================================================================\n",
      "Omnibus:                     1011.077   Durbin-Watson:                   2.008\n",
      "Prob(Omnibus):                  0.000   Jarque-Bera (JB):              190.548\n",
      "Skew:                           0.876   Prob(JB):                     4.20e-42\n",
      "Kurtosis:                       1.774   Cond. No.                         379.\n",
      "==============================================================================\n",
      "\n",
      "Notes:\n",
      "[1] Standard Errors assume that the covariance matrix of the errors is correctly specified.\n"
     ]
    }
   ],
   "execution_count": 23
  },
  {
   "metadata": {},
   "cell_type": "markdown",
   "source": "3. Test, identify, and detect multicollinearity in your dataset. Explain how you resolved it and report the results.",
   "id": "852b6e82b0c51c76"
  },
  {
   "metadata": {},
   "cell_type": "markdown",
   "source": "",
   "id": "45f47cc4244fe866"
  },
  {
   "metadata": {
    "ExecuteTime": {
     "end_time": "2024-09-18T21:54:13.326478Z",
     "start_time": "2024-09-18T21:54:13.306779Z"
    }
   },
   "cell_type": "code",
   "source": [
    "# Calculate VIF to detect multicollinearity\n",
    "vif_data = pd.DataFrame()\n",
    "vif_data[\"Feature\"] = X.columns\n",
    "vif_data[\"VIF\"] = [variance_inflation_factor(X.values, i) for i in range(len(X.columns))]\n",
    "\n",
    "# Show VIF values\n",
    "print(vif_data)"
   ],
   "id": "9de778e5ba25e068",
   "outputs": [
    {
     "name": "stdout",
     "output_type": "stream",
     "text": [
      "              Feature        VIF\n",
      "0               const  23.785824\n",
      "1                 Age   1.005411\n",
      "2    Time_in_Hospital   1.004908\n",
      "3  Num_Lab_Procedures   1.011913\n",
      "4     Num_Medications   1.003586\n",
      "5      Num_Outpatient   1.010482\n",
      "6       Num_Inpatient   1.005739\n",
      "7       Num_Emergency   1.006920\n"
     ]
    }
   ],
   "execution_count": 24
  },
  {
   "metadata": {},
   "cell_type": "markdown",
   "source": "4. Fit a linear regression model using the linear regression method from scikit-learn library. Obtain the coefficients and interpret the results.",
   "id": "64aa7edf90173ce8"
  },
  {
   "metadata": {
    "ExecuteTime": {
     "end_time": "2024-09-18T21:54:13.338961Z",
     "start_time": "2024-09-18T21:54:13.328523Z"
    }
   },
   "cell_type": "code",
   "source": [
    "# Prepare the LinearRegression model\n",
    "lin_reg = LinearRegression()\n",
    "\n",
    "# Fit the model to the entire dataset (you'll train the model in step 6)\n",
    "lin_reg.fit(X, y)\n",
    "\n",
    "# Get the coefficients\n",
    "coefficients = lin_reg.coef_\n",
    "intercept = lin_reg.intercept_\n",
    "\n",
    "# Print the coefficients and intercept\n",
    "print(\"Coefficients:\\n\", coefficients)\n",
    "print(\"\\nIntercept:\\n\", intercept)"
   ],
   "id": "f6ecbccd8c1d2199",
   "outputs": [
    {
     "name": "stdout",
     "output_type": "stream",
     "text": [
      "Coefficients:\n",
      " [ 0.          0.0001026  -0.00207281  0.00019772 -0.0014242   0.00125463\n",
      "  0.00155331  0.00713153]\n",
      "\n",
      "Intercept:\n",
      " 0.2899908201817057\n"
     ]
    }
   ],
   "execution_count": 25
  },
  {
   "metadata": {},
   "cell_type": "markdown",
   "source": "5. Split the data into 80% training and 20% testing sets using the train_test_split class.",
   "id": "1bf5f218a3f14d48"
  },
  {
   "metadata": {
    "ExecuteTime": {
     "end_time": "2024-09-18T21:54:13.353837Z",
     "start_time": "2024-09-18T21:54:13.342896Z"
    }
   },
   "cell_type": "code",
   "source": [
    "# Split the data into 80% training and 20% testing sets\n",
    "X_train, X_test, y_train, y_test = train_test_split(X, y, test_size=0.2, random_state=42)\n",
    "\n",
    "# Print the sizes of the training and testing sets\n",
    "print(\"Training set size:\", X_train.shape)\n",
    "print(\"Testing set size:\", X_test.shape)"
   ],
   "id": "604367d0230473bc",
   "outputs": [
    {
     "name": "stdout",
     "output_type": "stream",
     "text": [
      "Training set size: (800, 8)\n",
      "Testing set size: (200, 8)\n"
     ]
    }
   ],
   "execution_count": 26
  },
  {
   "metadata": {},
   "cell_type": "markdown",
   "source": "6. Train the multiple regression model on the training set using the LinearRegression class.",
   "id": "2c5c6ea01cab342e"
  },
  {
   "metadata": {
    "ExecuteTime": {
     "end_time": "2024-09-18T21:54:13.364962Z",
     "start_time": "2024-09-18T21:54:13.355506Z"
    }
   },
   "cell_type": "code",
   "source": [
    "# Train the model on the training set\n",
    "lin_reg.fit(X_train, y_train)\n",
    "\n",
    "# Get the coefficients and intercept after training\n",
    "coefficients = lin_reg.coef_\n",
    "intercept = lin_reg.intercept_\n",
    "\n",
    "print(\"Coefficients after training:\\n\", coefficients)\n",
    "print(\"\\nIntercept after training:\\n\", intercept)"
   ],
   "id": "73d29e1a2450a6c2",
   "outputs": [
    {
     "name": "stdout",
     "output_type": "stream",
     "text": [
      "Coefficients after training:\n",
      " [ 0.         -0.00032389 -0.00617662  0.00039419 -0.00023816 -0.00213766\n",
      "  0.00085366  0.00782346]\n",
      "\n",
      "Intercept after training:\n",
      " 0.34511893963324275\n"
     ]
    }
   ],
   "execution_count": 27
  },
  {
   "metadata": {},
   "cell_type": "markdown",
   "source": "7. Make regression predictions and interpret your results in the context of the question(s) you're trying to answer.",
   "id": "34825dab61575d73"
  },
  {
   "metadata": {
    "ExecuteTime": {
     "end_time": "2024-09-18T21:54:13.376403Z",
     "start_time": "2024-09-18T21:54:13.367843Z"
    }
   },
   "cell_type": "code",
   "source": [
    "# Make predictions on the test set\n",
    "y_pred = lin_reg.predict(X_test)\n",
    "\n",
    "# Calculate the Mean Squared Error (MSE)\n",
    "mse = mean_squared_error(y_test, y_pred)\n",
    "print(\"Mean Squared Error:\", mse)\n",
    "\n",
    "# Print a few predicted vs actual values for comparison\n",
    "for i in range(5):\n",
    "    print(f\"Predicted: {y_pred[i]}, Actual: {y_test.values[i]}\")"
   ],
   "id": "4d000d1f36deb91a",
   "outputs": [
    {
     "name": "stdout",
     "output_type": "stream",
     "text": [
      "Mean Squared Error: 0.20120730389167385\n",
      "Predicted: 0.31469911680256557, Actual: 0\n",
      "Predicted: 0.303164043744045, Actual: 0\n",
      "Predicted: 0.33462718054674, Actual: 0\n",
      "Predicted: 0.27108980242054725, Actual: 1\n",
      "Predicted: 0.29991682278157195, Actual: 0\n"
     ]
    }
   ],
   "execution_count": 28
  },
  {
   "metadata": {},
   "cell_type": "markdown",
   "source": "8. Validate your multiple regression model using a confusion matrix, accuracy score, and k-fold cross-validation.",
   "id": "ca9f875b23ab32e6"
  },
  {
   "metadata": {
    "ExecuteTime": {
     "end_time": "2024-09-18T21:54:13.445872Z",
     "start_time": "2024-09-18T21:54:13.401092Z"
    }
   },
   "cell_type": "code",
   "source": [
    "# For classification purposes, round the predictions to 0 or 1\n",
    "y_pred_rounded = np.round(y_pred)\n",
    "\n",
    "# Confusion matrix\n",
    "conf_matrix = confusion_matrix(y_test, y_pred_rounded)\n",
    "print(\"Confusion Matrix:\\n\", conf_matrix)\n",
    "\n",
    "# Perform 5-fold Cross-Validation\n",
    "cross_val_scores = cross_val_score(lin_reg, X, y, cv=5)\n",
    "print(\"Cross-Validation Scores:\\n\", cross_val_scores)\n",
    "print(\"\\nMean Cross-Validation Score:\", cross_val_scores.mean())"
   ],
   "id": "c9ceb3d8f0529fee",
   "outputs": [
    {
     "name": "stdout",
     "output_type": "stream",
     "text": [
      "Confusion Matrix:\n",
      " [[147   0]\n",
      " [ 53   0]]\n",
      "Cross-Validation Scores:\n",
      " [-0.00926801 -0.01979056 -0.02523639 -0.01285204 -0.05732822]\n",
      "\n",
      "Mean Cross-Validation Score: -0.024895043387887172\n"
     ]
    }
   ],
   "execution_count": 29
  }
 ],
 "metadata": {
  "kernelspec": {
   "display_name": "Python 3",
   "language": "python",
   "name": "python3"
  },
  "language_info": {
   "codemirror_mode": {
    "name": "ipython",
    "version": 2
   },
   "file_extension": ".py",
   "mimetype": "text/x-python",
   "name": "python",
   "nbconvert_exporter": "python",
   "pygments_lexer": "ipython2",
   "version": "2.7.6"
  }
 },
 "nbformat": 4,
 "nbformat_minor": 5
}
